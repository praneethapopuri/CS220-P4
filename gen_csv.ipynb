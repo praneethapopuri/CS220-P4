{
 "cells": [
  {
   "cell_type": "code",
   "execution_count": 1,
   "metadata": {},
   "outputs": [],
   "source": [
    "import requests\n",
    "from bs4 import BeautifulSoup as bs\n",
    "import pandas as pd"
   ]
  },
  {
   "cell_type": "code",
   "execution_count": 2,
   "metadata": {},
   "outputs": [],
   "source": [
    "dex_url = \"https://pokemondb.net/pokedex/all\"\n",
    "re = requests.get(dex_url)\n",
    "re.raise_for_status()\n",
    "raw_dex_data = bs(re.text, 'html.parser')\n",
    "\n",
    "pokemon = []\n",
    "pokemon_order = {}\n",
    "tables = raw_dex_data.find_all('a', attrs={'class':'ent-name'})\n",
    "count = 0\n",
    "for link in tables:\n",
    "    if link.text not in pokemon:\n",
    "        pokemon.append(link.text)\n",
    "        pokemon_order[link.text] = count\n",
    "        count+=1"
   ]
  },
  {
   "cell_type": "code",
   "execution_count": 3,
   "metadata": {},
   "outputs": [
    {
     "data": {
      "text/plain": [
       "'https://pokemondb.net/pokedex/Pikachu'"
      ]
     },
     "execution_count": 3,
     "metadata": {},
     "output_type": "execute_result"
    }
   ],
   "source": [
    "pokemon_url = {}\n",
    "for pkmn in pokemon:\n",
    "    pokemon_url[pkmn] = ('https://pokemondb.net/pokedex/' + pkmn)\n",
    "\n",
    "pokemon_url['Pikachu']"
   ]
  },
  {
   "cell_type": "code",
   "execution_count": 4,
   "metadata": {},
   "outputs": [
    {
     "data": {
      "text/plain": [
       "885"
      ]
     },
     "execution_count": 4,
     "metadata": {},
     "output_type": "execute_result"
    }
   ],
   "source": [
    "# This cell takes a very long time, it scrapes every pokedex entry\n",
    "raw_pokemon_data = {}\n",
    "for pkmn in pokemon_url:\n",
    "    try:\n",
    "        re = requests.get(pokemon_url[pkmn])\n",
    "        re.raise_for_status()\n",
    "        raw_pokemon_data[pkmn] = (bs(re.text, 'html.parser'))\n",
    "    except:\n",
    "        pass\n",
    "    \n",
    "len(raw_pokemon_data)"
   ]
  },
  {
   "cell_type": "code",
   "execution_count": 5,
   "metadata": {},
   "outputs": [
    {
     "data": {
      "text/plain": [
       "<table class=\"vitals-table\">\n",
       "<tbody>\n",
       "<tr>\n",
       "<th>HP</th>\n",
       "<td class=\"cell-num\">35</td>\n",
       "<td class=\"cell-barchart\">\n",
       "<div class=\"barchart-bar barchart-rank-2\" style=\"width:19.44%;\"></div>\n",
       "</td>\n",
       "<td class=\"cell-num\">180</td>\n",
       "<td class=\"cell-num\">274</td>\n",
       "</tr>\n",
       "<tr>\n",
       "<th>Attack</th>\n",
       "<td class=\"cell-num\">55</td>\n",
       "<td class=\"cell-barchart\">\n",
       "<div class=\"barchart-bar barchart-rank-2\" style=\"width:30.56%;\"></div>\n",
       "</td>\n",
       "<td class=\"cell-num\">103</td>\n",
       "<td class=\"cell-num\">229</td>\n",
       "</tr>\n",
       "<tr>\n",
       "<th>Defense</th>\n",
       "<td class=\"cell-num\">40</td>\n",
       "<td class=\"cell-barchart\">\n",
       "<div class=\"barchart-bar barchart-rank-2\" style=\"width:22.22%;\"></div>\n",
       "</td>\n",
       "<td class=\"cell-num\">76</td>\n",
       "<td class=\"cell-num\">196</td>\n",
       "</tr>\n",
       "<tr>\n",
       "<th>Sp. Atk</th>\n",
       "<td class=\"cell-num\">50</td>\n",
       "<td class=\"cell-barchart\">\n",
       "<div class=\"barchart-bar barchart-rank-2\" style=\"width:27.78%;\"></div>\n",
       "</td>\n",
       "<td class=\"cell-num\">94</td>\n",
       "<td class=\"cell-num\">218</td>\n",
       "</tr>\n",
       "<tr>\n",
       "<th>Sp. Def</th>\n",
       "<td class=\"cell-num\">50</td>\n",
       "<td class=\"cell-barchart\">\n",
       "<div class=\"barchart-bar barchart-rank-2\" style=\"width:27.78%;\"></div>\n",
       "</td>\n",
       "<td class=\"cell-num\">94</td>\n",
       "<td class=\"cell-num\">218</td>\n",
       "</tr>\n",
       "<tr>\n",
       "<th>Speed</th>\n",
       "<td class=\"cell-num\">90</td>\n",
       "<td class=\"cell-barchart\">\n",
       "<div class=\"barchart-bar barchart-rank-4\" style=\"width:50.00%;\"></div>\n",
       "</td>\n",
       "<td class=\"cell-num\">166</td>\n",
       "<td class=\"cell-num\">306</td>\n",
       "</tr>\n",
       "</tbody>\n",
       "<tfoot>\n",
       "<tr>\n",
       "<th>Total</th>\n",
       "<td class=\"cell-total\"><b>320</b></td>\n",
       "<th class=\"cell-barchart\"></th>\n",
       "<th>Min</th>\n",
       "<th>Max</th>\n",
       "</tr>\n",
       "</tfoot>\n",
       "</table>"
      ]
     },
     "execution_count": 5,
     "metadata": {},
     "output_type": "execute_result"
    }
   ],
   "source": [
    "raw_pokemon_stats = {}\n",
    "headers = ['HP', 'Attack', 'Defense', 'Sp. Atk', 'Sp. Def', 'Speed']\n",
    "for pkmn in raw_pokemon_data:\n",
    "    raw_pokemon_tables = raw_pokemon_data[pkmn].find_all('table')\n",
    "    for table in raw_pokemon_tables:\n",
    "        correct_table = True\n",
    "        for header in headers:\n",
    "            if header not in str(table):\n",
    "                correct_table = False\n",
    "        if correct_table and pkmn not in raw_pokemon_stats:\n",
    "            raw_pokemon_stats[pkmn] = table\n",
    "        \n",
    "raw_pokemon_stats['Pikachu']"
   ]
  },
  {
   "cell_type": "code",
   "execution_count": 6,
   "metadata": {},
   "outputs": [
    {
     "data": {
      "text/plain": [
       "[{'Name': 'Bulbasaur',\n",
       "  'Region': 'Kanto',\n",
       "  'Type 1': 'Grass',\n",
       "  'Type 2': 'Poison',\n",
       "  'HP': '45',\n",
       "  'Attack': '49',\n",
       "  'Defense': '49',\n",
       "  'Sp. Atk': '65',\n",
       "  'Sp. Def': '65',\n",
       "  'Speed': '45'},\n",
       " {'Name': 'Ivysaur',\n",
       "  'Region': 'Kanto',\n",
       "  'Type 1': 'Grass',\n",
       "  'Type 2': 'Poison',\n",
       "  'HP': '60',\n",
       "  'Attack': '62',\n",
       "  'Defense': '63',\n",
       "  'Sp. Atk': '80',\n",
       "  'Sp. Def': '80',\n",
       "  'Speed': '60'},\n",
       " {'Name': 'Venusaur',\n",
       "  'Region': 'Kanto',\n",
       "  'Type 1': 'Grass',\n",
       "  'Type 2': 'Poison',\n",
       "  'HP': '80',\n",
       "  'Attack': '82',\n",
       "  'Defense': '83',\n",
       "  'Sp. Atk': '100',\n",
       "  'Sp. Def': '100',\n",
       "  'Speed': '80'}]"
      ]
     },
     "execution_count": 6,
     "metadata": {},
     "output_type": "execute_result"
    }
   ],
   "source": [
    "regions = {1: \"Kanto\", 2: \"Johto\", 3: \"Hoenn\", 4: \"Sinnoh\", 5: \"Unova\", 6: \"Kalos\", 7: \"Alola\", 8:\"Galar\"}\n",
    "\n",
    "pokemon_stats = []\n",
    "for pkmn in raw_pokemon_stats:\n",
    "    stats = {}\n",
    "    raw_stats = raw_pokemon_stats[pkmn].find_all('tr')\n",
    "    stats['Name'] = pkmn\n",
    "    generation_text = raw_pokemon_data[pkmn].find('p').text\n",
    "    generation_idx = generation_text.find('Generation')\n",
    "    generation = int(generation_text[generation_idx + len('Generation ')])\n",
    "    stats[\"Region\"] = regions[generation]\n",
    "    pkmn_types = raw_pokemon_data[pkmn].find('table').find_all('td')[1].find_all('a')\n",
    "    stats['Type 1'] = pkmn_types[0].text\n",
    "    if len(pkmn_types) > 1:\n",
    "        stats['Type 2'] = pkmn_types[1].text\n",
    "    else:\n",
    "        stats['Type 2'] = 'None'\n",
    "    for stat in raw_stats:\n",
    "        stat_name = stat.find('th').get_text()\n",
    "        stat_num = stat.find('td').get_text()\n",
    "        if stat_name in headers:\n",
    "            stats[stat_name] = stat_num\n",
    "    pokemon_stats.append(stats)\n",
    "\n",
    "pokemon_stats = sorted(pokemon_stats, key = lambda x: pokemon_order[x['Name']])\n",
    "pokemon_stats[:3]"
   ]
  },
  {
   "cell_type": "code",
   "execution_count": 7,
   "metadata": {},
   "outputs": [],
   "source": [
    "cols = [\"Name\",\"Attack\",\"Defense\",\"HP\",\"Region\",\"Sp. Atk\",\"Sp. Def\",\"Speed\",\"Type 1\",\"Type 2\"]\n",
    "df = pd.DataFrame(pokemon_stats)\n",
    "df = df[cols]\n",
    "df.to_csv('pokemon_stats.csv')"
   ]
  },
  {
   "cell_type": "code",
   "execution_count": 8,
   "metadata": {},
   "outputs": [
    {
     "data": {
      "text/plain": [
       "{'Normal': 1.0,\n",
       " 'Fire': 0.5,\n",
       " 'Water': 0.5,\n",
       " 'Electric': 1.0,\n",
       " 'Grass': 2.0,\n",
       " 'Ice': 2.0,\n",
       " 'Fighting': 1.0,\n",
       " 'Poison': 1.0,\n",
       " 'Ground': 1.0,\n",
       " 'Flying': 1.0,\n",
       " 'Psychic': 1.0,\n",
       " 'Bug': 2.0,\n",
       " 'Rock': 0.5,\n",
       " 'Ghost': 1.0,\n",
       " 'Dragon': 0.5,\n",
       " 'Dark': 1.0,\n",
       " 'Steel': 2.0,\n",
       " 'Fairy': 1.0}"
      ]
     },
     "execution_count": 8,
     "metadata": {},
     "output_type": "execute_result"
    }
   ],
   "source": [
    "type_url = \"https://pokemondb.net/type\"\n",
    "re = requests.get(type_url)\n",
    "re.raise_for_status()\n",
    "raw_type_data = bs(re.text, 'html.parser')\n",
    "\n",
    "effectiveness = {}\n",
    "raw_to_numbers = {'normal': 1.0, 'not': 0.5, 'super-effective': 2.0, 'no': 0.0}\n",
    "table = raw_type_data.find('table')\n",
    "rows = table.find_all('tr')[1:]\n",
    "for row in rows:\n",
    "    cells = row.find_all('td')\n",
    "    for cell in cells:\n",
    "        data = cell.attrs['title']\n",
    "        types, val = data.split(' = ')\n",
    "        type1, type2 = types.split(\" → \")\n",
    "        val = val.split()[0]\n",
    "        if type1 not in effectiveness:\n",
    "            effectiveness[type1] = {}\n",
    "        effectiveness[type1][type2] = raw_to_numbers[val]\n",
    "        \n",
    "effectiveness['Fire']"
   ]
  },
  {
   "cell_type": "code",
   "execution_count": 9,
   "metadata": {},
   "outputs": [],
   "source": [
    "df = pd.DataFrame(effectiveness)\n",
    "df.to_csv('type_effectiveness_stats.csv')"
   ]
  },
  {
   "cell_type": "code",
   "execution_count": null,
   "metadata": {},
   "outputs": [],
   "source": []
  }
 ],
 "metadata": {
  "kernelspec": {
   "display_name": "Python 3",
   "language": "python",
   "name": "python3"
  },
  "language_info": {
   "codemirror_mode": {
    "name": "ipython",
    "version": 3
   },
   "file_extension": ".py",
   "mimetype": "text/x-python",
   "name": "python",
   "nbconvert_exporter": "python",
   "pygments_lexer": "ipython3",
   "version": "3.8.5"
  }
 },
 "nbformat": 4,
 "nbformat_minor": 2
}
